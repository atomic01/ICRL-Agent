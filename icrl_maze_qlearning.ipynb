{
 "cells": [
  {
   "cell_type": "code",
   "execution_count": null,
   "metadata": {
    "ExecuteTime": {
     "end_time": "2020-10-05T13:43:47.991657Z",
     "start_time": "2020-10-05T13:43:47.800316Z"
    }
   },
   "outputs": [],
   "source": [
    "import numpy as np\n",
    "import matplotlib.pyplot as plt"
   ]
  },
  {
   "cell_type": "code",
   "execution_count": null,
   "metadata": {
    "ExecuteTime": {
     "end_time": "2020-10-05T13:43:48.024162Z",
     "start_time": "2020-10-05T13:43:48.020106Z"
    }
   },
   "outputs": [],
   "source": [
    "#actions: 0 = up, 1 = right, 2 = down, 3 = left\n",
    "actions = ['up', 'right', 'down', 'left']"
   ]
  },
  {
   "cell_type": "code",
   "execution_count": null,
   "metadata": {
    "ExecuteTime": {
     "end_time": "2020-10-05T13:43:48.374444Z",
     "start_time": "2020-10-05T13:43:48.333020Z"
    }
   },
   "outputs": [],
   "source": [
    "def is_terminal_state(current_row_index, current_column_index):\n",
    "  if rewards[current_row_index, current_column_index] == -1.:\n",
    "    return False\n",
    "  else:\n",
    "    return True\n",
    "\n",
    "def get_next_action(current_row_index, current_column_index, epsilon):\n",
    "\n",
    "  if np.random.random() > epsilon:\n",
    "    return np.argmax(q_values[:,current_row_index, current_column_index])\n",
    "  else: \n",
    "    return np.random.randint(4)\n",
    "\n",
    "def get_next_location(current_row_index, current_column_index, action_index):\n",
    "  new_row_index = current_row_index\n",
    "  new_column_index = current_column_index\n",
    "  if actions[action_index] == 'up' and current_row_index > 0:\n",
    "    new_row_index -= 1\n",
    "  elif actions[action_index] == 'right' and current_column_index < environment_columns - 1:\n",
    "    new_column_index += 1\n",
    "  elif actions[action_index] == 'down' and current_row_index < environment_rows - 1:\n",
    "    new_row_index += 1\n",
    "  elif actions[action_index] == 'left' and current_column_index > 0:\n",
    "    new_column_index -= 1\n",
    "  return new_row_index, new_column_index\n",
    "\n",
    "def get_shortest_path(start_row_index, start_column_index):\n",
    "  if is_terminal_state(start_row_index, start_column_index):\n",
    "    return []\n",
    "  else: \n",
    "    current_row_index, current_column_index = start_row_index, start_column_index\n",
    "    shortest_path = []\n",
    "    shortest_path.append([current_row_index, current_column_index])\n",
    "    while not is_terminal_state(current_row_index, current_column_index):\n",
    "      action_index = get_next_action(current_row_index, current_column_index, 0)\n",
    "      current_row_index, current_column_index = get_next_location(current_row_index, current_column_index, action_index)\n",
    "      shortest_path.append([current_row_index, current_column_index])\n",
    "      if len(shortest_path) > (environment_rows * environment_columns):\n",
    "        return shortest_path\n",
    "    return shortest_path\n",
    "\n",
    "def draw_shortest_path():\n",
    "    shortest_path = get_shortest_path(0, 3)\n",
    "\n",
    "    if shortest_path:\n",
    "        for i in shortest_path:\n",
    "            data[i[0], i[1]] = 0.4\n",
    "    plt.imshow(data, interpolation='nearest', cmap='hot')"
   ]
  },
  {
   "cell_type": "code",
   "execution_count": null,
   "metadata": {
    "ExecuteTime": {
     "end_time": "2020-10-05T13:43:49.092347Z",
     "start_time": "2020-10-05T13:43:48.961813Z"
    }
   },
   "outputs": [],
   "source": [
    "environment_rows = 10\n",
    "environment_columns = 10\n",
    "N = 10\n",
    "\n",
    "q_values = np.zeros((4, environment_rows, environment_columns))\n",
    "rewards = np.full((environment_rows, environment_columns), -100.)\n",
    "\n",
    "maze = {} \n",
    "maze[0] = [3]\n",
    "maze[1] = [i for i in range(1,9)]\n",
    "maze[2] = [1, 6, 8]\n",
    "maze[3] = [1, 2, 3, 5, 6, 8]\n",
    "maze[4] = [1, 3, 5, 8]\n",
    "maze[5] = [1, 2, 3, 4, 5, 7, 8]\n",
    "maze[6] = [5]\n",
    "maze[7] = [1, 3, 5, 8]\n",
    "maze[8] = [i for i in range(1,9)]\n",
    "\n",
    "for row_index in range(0,N-1):\n",
    "    for column_index in maze[row_index]:\n",
    "        rewards[row_index, column_index] = -1\n",
    "rewards[9, 7] = 100\n",
    "        \n",
    "for row in rewards:\n",
    "    print(row)\n",
    "    \n",
    "data = np.zeros((environment_columns, environment_rows))\n",
    "for j in range(environment_rows):\n",
    "    for i in range(environment_columns):\n",
    "        if rewards[j][i] == -100:\n",
    "            data[j][i] = 0\n",
    "        else:\n",
    "            data[j][i] = 1\n",
    "\n",
    "plt.imshow(data, interpolation='nearest', cmap='hot')"
   ]
  },
  {
   "cell_type": "code",
   "execution_count": null,
   "metadata": {
    "ExecuteTime": {
     "end_time": "2020-10-05T13:43:51.371191Z",
     "start_time": "2020-10-05T13:43:49.761713Z"
    },
    "scrolled": false
   },
   "outputs": [],
   "source": [
    "#define training parameters\n",
    "discount_factor = 0.9\n",
    "learning_rate = 0.9 \n",
    "number_of_episodes = 2000\n",
    "epsilon = 0.99\n",
    "epsilon_decay = 0.999\n",
    "\n",
    "min_epsilon = 0.01\n",
    "\n",
    "sampling_frequency = 10\n",
    "\n",
    "#image pixel data\n",
    "original_data = data.copy()\n",
    "data_array = np.zeros((environment_rows, environment_columns, int(number_of_episodes/sampling_frequency) ))\n",
    "\n",
    "#metrics sotrage arrays\n",
    "reward_array = []\n",
    "episode_array_for_minmaxavg = []\n",
    "min_reward_array = [] \n",
    "max_reward_array = []\n",
    "avg_reward_array = []\n",
    "number_of_steps_array = []\n",
    "mean_q_values = []\n",
    "\n",
    "\n",
    "for episode in range(number_of_episodes):\n",
    "    row_index = 0\n",
    "    column_index = 3 \n",
    "    aggr_reward = 0\n",
    "    number_of_steps = 0\n",
    "    aggr_q_values = 0\n",
    "    \n",
    "    while not is_terminal_state(row_index, column_index):\n",
    "        action_index = get_next_action(row_index, column_index, epsilon)\n",
    "        old_row_index, old_column_index = row_index, column_index \n",
    "        row_index, column_index = get_next_location(old_row_index, old_column_index, action_index)\n",
    "        reward = rewards[row_index, column_index]\n",
    "        \n",
    "        old_q_value = q_values[action_index, old_row_index, old_column_index]\n",
    "        temporal_difference = reward + (discount_factor * np.max(q_values[:,row_index, column_index])) - old_q_value\n",
    "        new_q_value = old_q_value + (learning_rate * temporal_difference)\n",
    "        q_values[action_index, old_row_index, old_column_index] = new_q_value\n",
    "        \n",
    "        #metrics variables-------------------------------------------------------\n",
    "        aggr_reward +=reward  \n",
    "        number_of_steps += 1\n",
    "        aggr_q_values += new_q_value\n",
    "        #------------------------------------------------------------------------\n",
    "        \n",
    "    if epsilon > min_epsilon:\n",
    "        epsilon *= epsilon_decay\n",
    "        \n",
    "    \n",
    "    reward_array.append(aggr_reward)    \n",
    "    number_of_steps_array.append(number_of_steps)\n",
    "    if number_of_steps > 0:\n",
    "        mean_q_values.append(aggr_q_values/number_of_steps)\n",
    "    else:\n",
    "        mean_q_values.append(0)\n",
    "    \n",
    "    if episode%sampling_frequency ==  0:\n",
    "        index = int(episode / sampling_frequency)  \n",
    "        draw_shortest_path()\n",
    "        data_array[:,:,index] = data.copy()\n",
    "        data = original_data.copy()\n",
    "        \n",
    "        average_reward = sum(reward_array[-sampling_frequency:])/sampling_frequency\n",
    "        min_reward = min(reward_array[-sampling_frequency:])\n",
    "        max_reward = max(reward_array[-sampling_frequency:])       \n",
    "        #print(\"Index: \", index ,\", Episode: \", episode,\"Rewards-- min: \", min_reward ,\" max: \", max_reward, \" avg: \", average_reward)\n",
    "\n",
    "        episode_array_for_minmaxavg.append(episode)\n",
    "        min_reward_array.append(min_reward)\n",
    "        max_reward_array.append(max_reward)\n",
    "        avg_reward_array.append(average_reward)\n",
    "\n",
    "print('Training complete!')"
   ]
  },
  {
   "cell_type": "code",
   "execution_count": null,
   "metadata": {
    "ExecuteTime": {
     "end_time": "2020-10-05T13:03:59.801430Z",
     "start_time": "2020-10-05T13:03:59.624350Z"
    },
    "scrolled": false
   },
   "outputs": [],
   "source": [
    "fig=plt.figure(figsize=(16, 10))\n",
    "plt.plot(reward_array,  label=\"Reward\" )\n",
    "plt.ylim(-200, 100)\n",
    "plt.title(\"Rewards per episode\")\n",
    "plt.legend(loc=2)\n",
    "plt.show()"
   ]
  },
  {
   "cell_type": "code",
   "execution_count": null,
   "metadata": {
    "ExecuteTime": {
     "end_time": "2020-10-05T13:04:00.631298Z",
     "start_time": "2020-10-05T13:04:00.463944Z"
    }
   },
   "outputs": [],
   "source": [
    "fig=plt.figure(figsize=(16, 10))\n",
    "plt.plot(episode_array_for_minmaxavg, min_reward_array, label=\"Min\" )\n",
    "plt.plot(episode_array_for_minmaxavg, max_reward_array, label=\"Max\" )\n",
    "plt.plot(episode_array_for_minmaxavg, avg_reward_array, label=\"Avg\" )\n",
    "plt.title(\"Reward MIN MAX AVG per episode\")\n",
    "plt.ylim(-200, 100)\n",
    "plt.legend(loc=2)\n",
    "plt.show()"
   ]
  },
  {
   "cell_type": "code",
   "execution_count": null,
   "metadata": {
    "ExecuteTime": {
     "end_time": "2020-10-05T13:04:01.151981Z",
     "start_time": "2020-10-05T13:04:00.893343Z"
    }
   },
   "outputs": [],
   "source": [
    "fig =plt.figure(figsize=(16, 10))\n",
    "plt.plot(mean_q_values,  label=\"Mean Q-Value\" )\n",
    "plt.title(\"Mean Q-Values of each episodes\")\n",
    "plt.ylim(-150, 50)\n",
    "plt.legend(loc=2)\n",
    "plt.show()"
   ]
  },
  {
   "cell_type": "code",
   "execution_count": null,
   "metadata": {
    "ExecuteTime": {
     "end_time": "2020-10-05T13:04:01.787299Z",
     "start_time": "2020-10-05T13:04:01.619029Z"
    }
   },
   "outputs": [],
   "source": [
    "fig=plt.figure(figsize=(16, 10))\n",
    "plt.plot(number_of_steps_array,  label=\"Number of steps\" )\n",
    "plt.title(\"Number of steps per episode\")\n",
    "plt.ylim(-50, 100)\n",
    "plt.legend(loc=2)\n",
    "plt.show()"
   ]
  },
  {
   "cell_type": "code",
   "execution_count": null,
   "metadata": {},
   "outputs": [],
   "source": [
    "print(q_values)"
   ]
  }
 ],
 "metadata": {
  "kernelspec": {
   "display_name": "Python 3",
   "language": "python",
   "name": "python3"
  },
  "language_info": {
   "codemirror_mode": {
    "name": "ipython",
    "version": 3
   },
   "file_extension": ".py",
   "mimetype": "text/x-python",
   "name": "python",
   "nbconvert_exporter": "python",
   "pygments_lexer": "ipython3",
   "version": "3.7.6"
  }
 },
 "nbformat": 4,
 "nbformat_minor": 4
}
